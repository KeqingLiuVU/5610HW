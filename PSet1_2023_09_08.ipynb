{
  "cells": [
    {
      "cell_type": "markdown",
      "metadata": {
        "id": "view-in-github",
        "colab_type": "text"
      },
      "source": [
        "<a href=\"https://colab.research.google.com/github/KeqingLiuVU/5610HW/blob/main/PSet1_2023_09_08.ipynb\" target=\"_parent\"><img src=\"https://colab.research.google.com/assets/colab-badge.svg\" alt=\"Open In Colab\"/></a>"
      ]
    },
    {
      "cell_type": "markdown",
      "metadata": {
        "id": "X4KAg1qwWLst"
      },
      "source": [
        "Problem set 1: Data importing and cleaning\n",
        "\n",
        "Due: 11:59pm on Friday, September 8 by uploading to github\n",
        "\n",
        "Your name: Keqing Liu\n",
        "\n",
        "1. Data importing: \"data_finance.csv\" contains a dataset with information about sales transactions. Write the appropriate code for each of the tasks below. This section should be completed without generative AI, but with open access to static online resources like course material, stackoverflow, blogs with sample code, etc."
      ]
    },
    {
      "cell_type": "code",
      "source": [
        "from google.colab import drive\n",
        "drive.mount('/content/drive')"
      ],
      "metadata": {
        "colab": {
          "base_uri": "https://localhost:8080/"
        },
        "id": "79QkHdJHbQZu",
        "outputId": "58480cc4-d11c-44f2-ed62-2d488e95151c"
      },
      "execution_count": null,
      "outputs": [
        {
          "output_type": "stream",
          "name": "stdout",
          "text": [
            "Drive already mounted at /content/drive; to attempt to forcibly remount, call drive.mount(\"/content/drive\", force_remount=True).\n"
          ]
        }
      ]
    },
    {
      "cell_type": "code",
      "execution_count": null,
      "metadata": {
        "id": "VNactcgqW8by",
        "outputId": "37fb1469-06da-4031-c254-a3376d35d58b",
        "colab": {
          "base_uri": "https://localhost:8080/"
        }
      },
      "outputs": [
        {
          "output_type": "stream",
          "name": "stdout",
          "text": [
            "Index(['transaction_id', 'product_name', 'quantity', 'price'], dtype='object')\n",
            "transaction_id      int64\n",
            "product_name       object\n",
            "quantity            int64\n",
            "price             float64\n",
            "dtype: object\n",
            "   transaction_id product_name  quantity  price\n",
            "0               1        Apple         7  12.34\n",
            "1               2       Banana         2  19.05\n",
            "2               3       Cherry         9   5.81\n",
            "3               4         Date         4   1.76\n",
            "4               5   Elderberry         8  10.45\n",
            "    transaction_id          product_name  quantity  price\n",
            "20              21          Vanilla bean         9  17.29\n",
            "21              22            Watermelon         8  13.67\n",
            "22              23                 Xigua         3  21.89\n",
            "23              24  Yellow passion fruit         2  15.54\n",
            "24              25              Zucchini         6  24.72\n",
            "    transaction_id product_name  quantity  price\n",
            "1                2       Banana         2  19.05\n",
            "13              14       Orange         6   3.14\n",
            "12              13    Nectarine         2   6.87\n",
            "0                1        Apple         7  12.34\n",
            "17              18   Strawberry         1   0.99\n",
            "        quantity      price\n",
            "count  25.000000  25.000000\n",
            "mean    5.520000  12.514800\n",
            "std     2.902872   7.346783\n",
            "min     1.000000   0.990000\n",
            "25%     3.000000   6.870000\n",
            "50%     6.000000  12.340000\n",
            "75%     8.000000  18.220000\n",
            "max    10.000000  24.720000\n"
          ]
        }
      ],
      "source": [
        "# Load the pandas library\n",
        "import pandas as pd\n",
        "# Import the CSV file 'data_finance.csv' into a DataFrame\n",
        "data_finance=pd.read_csv('/content/drive/MyDrive/5610/data_finance.csv')\n",
        "# Display the column names\n",
        "print(data_finance.columns)\n",
        "# Identify the data types of each column\n",
        "print(data_finance.dtypes)\n",
        "# Display the first 5 rows of the DataFrame\n",
        "print(data_finance.head())\n",
        "# Display the last 5 rows of the DataFrame\n",
        "print(data_finance.tail())\n",
        "# Display a random sample of 5 rows\n",
        "print(data_finance.sample(5))\n",
        "# Display summary statistics for the quantity and price columns\n",
        "print(data_finance[[\"quantity\",\"price\"]].describe())"
      ]
    },
    {
      "cell_type": "code",
      "source": [
        "from google.colab import drive\n",
        "drive.mount('/content/drive')"
      ],
      "metadata": {
        "id": "GbOlEvo7CjTD",
        "colab": {
          "base_uri": "https://localhost:8080/"
        },
        "outputId": "82e64312-fba4-44c0-d4f2-4fa43a2cdb1b"
      },
      "execution_count": null,
      "outputs": [
        {
          "output_type": "stream",
          "name": "stdout",
          "text": [
            "Mounted at /content/drive\n"
          ]
        }
      ]
    },
    {
      "cell_type": "markdown",
      "metadata": {
        "id": "k3x3SBG_blf2"
      },
      "source": [
        "2. Generative AI comparison. Use a reliable generative AI like ChatGPT, Claude, Bing, Jupyter AI, etc. to answer the same questions as Section 1. You should alter the prompt given to the AI to maximize the accuracy and efficiency of its output. Paste both your prompt and the generative AI's output below."
      ]
    },
    {
      "cell_type": "code",
      "execution_count": null,
      "metadata": {
        "id": "nxpB15SMbnmI",
        "colab": {
          "base_uri": "https://localhost:8080/"
        },
        "outputId": "ed4e9647-b50a-4c1f-a684-801e9c5748e0"
      },
      "outputs": [
        {
          "output_type": "stream",
          "name": "stdout",
          "text": [
            "Index(['transaction_id', 'product_name', 'quantity', 'price'], dtype='object')\n",
            "transaction_id      int64\n",
            "product_name       object\n",
            "quantity            int64\n",
            "price             float64\n",
            "dtype: object\n",
            "   transaction_id product_name  quantity  price\n",
            "0               1        Apple         7  12.34\n",
            "1               2       Banana         2  19.05\n",
            "2               3       Cherry         9   5.81\n",
            "3               4         Date         4   1.76\n",
            "4               5   Elderberry         8  10.45\n",
            "    transaction_id          product_name  quantity  price\n",
            "20              21          Vanilla bean         9  17.29\n",
            "21              22            Watermelon         8  13.67\n",
            "22              23                 Xigua         3  21.89\n",
            "23              24  Yellow passion fruit         2  15.54\n",
            "24              25              Zucchini         6  24.72\n",
            "    transaction_id product_name  quantity  price\n",
            "1                2       Banana         2  19.05\n",
            "22              23        Xigua         3  21.89\n",
            "16              17    Raspberry         4  16.98\n",
            "9               10         Kiwi         6   9.71\n",
            "2                3       Cherry         9   5.81\n",
            "        quantity      price\n",
            "count  25.000000  25.000000\n",
            "mean    5.520000  12.514800\n",
            "std     2.902872   7.346783\n",
            "min     1.000000   0.990000\n",
            "25%     3.000000   6.870000\n",
            "50%     6.000000  12.340000\n",
            "75%     8.000000  18.220000\n",
            "max    10.000000  24.720000\n"
          ]
        }
      ],
      "source": [
        "# Prompt\n",
        "#You are a data scientist. Write the appropriate code for each of the tasks below. The code is run in Colab. The path to the csv file is /content/drive/MyDrive/5610/data_finance.csv. Make sure the result for each task is concise and correct. Please give me codes in the same page.\n",
        "# Load the pandas library\n",
        "# Import the CSV file 'data_finance.csv' into a DataFrame\n",
        "# Display the column names\n",
        "# Identify the data types of each column\n",
        "# Display the first 5 rows of the DataFrame\n",
        "# Display the last 5 rows of the DataFrame\n",
        "# Display a random sample of 5 rows\n",
        "# Display summary statistics for the quantity and price columns\n",
        "\n",
        "# AI generated code\n",
        "# 1. Load the pandas library\n",
        "import pandas as pd\n",
        "\n",
        "# 2. Import the CSV file 'data_finance.csv' into a DataFrame\n",
        "df = pd.read_csv('/content/drive/MyDrive/5610/data_finance.csv')\n",
        "\n",
        "# 3. Display the column names\n",
        "print(df.columns)\n",
        "\n",
        "# 4. Identify the data types of each column\n",
        "print(df.dtypes)\n",
        "\n",
        "# 5. Display the first 5 rows of the DataFrame\n",
        "print(df.head())\n",
        "\n",
        "# 6. Display the last 5 rows of the DataFrame\n",
        "print(df.tail())\n",
        "\n",
        "# 7. Display a random sample of 5 rows\n",
        "print(df.sample(n=5))\n",
        "\n",
        "# 8. Display summary statistics for the quantity and price columns\n",
        "print(df[['quantity', 'price']].describe())\n"
      ]
    },
    {
      "cell_type": "markdown",
      "metadata": {
        "id": "PZiy5JolYBnB"
      },
      "source": [
        "3. Data cleaning: \"data_students.tsv\" contains a dataset with information about students. Write the appropriate code for each of the tasks below. This section should be completed without generative AI, but with open access to static online resources like course material, stackoverflow, blogs with sample code, etc."
      ]
    },
    {
      "cell_type": "code",
      "execution_count": null,
      "metadata": {
        "id": "FW5woMoyYNd9",
        "colab": {
          "base_uri": "https://localhost:8080/"
        },
        "outputId": "2770c2d6-fe0c-4fc7-f273-9d1fafb9a77f"
      },
      "outputs": [
        {
          "output_type": "stream",
          "name": "stdout",
          "text": [
            "id          0\n",
            "name        0\n",
            "age         5\n",
            "gender      0\n",
            "location    0\n",
            "math        0\n",
            "science     0\n",
            "history     0\n",
            "english     0\n",
            "dtype: int64\n"
          ]
        }
      ],
      "source": [
        "\n",
        "# Import \"data_students.tsv\" into a dataframe\n",
        "data_students=pd.read_csv(\"/content/drive/MyDrive/5610/data_students.tsv\",sep=\"\\t\")\n",
        "# Rename the columns to improve machine and human-readability\n",
        "data_students=data_students.rename(columns={\"student_id\":\"id\",\"student's age\":\"age\",\"sex of student\":\"gender\",\"math grade\":\"math\",\"grade in english\":\"english\"})\n",
        "# Display the number of missing values in each column\n",
        "print(data_students.isna().sum(axis=0))\n",
        "# Create a new column identifying whether the age column is missing\n",
        "import numpy as np\n",
        "data_students[\"age missing\"]=np.where(data_students[\"age\"].isna(),True,False)\n",
        "# Replace missing values in the 'age' column with the mean age\n",
        "data_students[\"age\"].fillna(data_students[\"age\"].mean(),inplace=True)\n",
        "# Convert the 'gender' column to lowercase\n",
        "data_students[\"gender\"]=data_students[\"gender\"].apply(str.lower)\n",
        "# Split the location column into separate columns for city and state\n",
        "data_students[[\"city\",\"state\"]]=data_students.location.str.split(\", \",expand=True)\n",
        "data_students.head()\n",
        "# Save the cleaned data to a new CSV file with an appropriate name\n",
        "data_students.to_csv(\"/content/drive/MyDrive/5610/cleaned_students.csv\")"
      ]
    },
    {
      "cell_type": "markdown",
      "metadata": {
        "id": "lcCTq1i-bzGI"
      },
      "source": [
        "4. Generative AI comparison. Use a reliable generative AI like ChatGPT, Claude, Bing, Jupyter AI, etc. to answer the same questions as Section 3. You should alter the prompt given to the AI to maximize the accuracy and efficiency of its output. Paste both your prompt and the generative AI's output below."
      ]
    },
    {
      "cell_type": "code",
      "source": [],
      "metadata": {
        "id": "UpqBMzXlqfj0"
      },
      "execution_count": null,
      "outputs": []
    },
    {
      "cell_type": "code",
      "execution_count": null,
      "metadata": {
        "colab": {
          "base_uri": "https://localhost:8080/",
          "height": 36
        },
        "outputId": "8cb43320-47b7-4b1e-b4d7-5477bc1e5e30",
        "id": "tAyqSD2XqfyD"
      },
      "outputs": [
        {
          "output_type": "execute_result",
          "data": {
            "text/plain": [
              "'/content/drive/MyDrive/5610/cleaned_data_students.csv'"
            ],
            "application/vnd.google.colaboratory.intrinsic+json": {
              "type": "string"
            }
          },
          "metadata": {},
          "execution_count": 98
        }
      ],
      "source": [
        "# Prompt\n",
        "#You are a data scientist. Write the appropriate code for each of the tasks below. The code is run in Colab. The path to the csv file is /content/drive/MyDrive/5610/data_students.tsv. Make sure the result for each task is concise and correct. Please give me codes in the same page.\n",
        "# Import \"data_students.tsv\" into a dataframe. Use /content/drive/MyDrive/5610/data_students.tsv as path in your code.\n",
        "# Rename the columns to improve machine and human-readability\n",
        "# Display the number of missing values in each column\n",
        "# Create a new column identifying whether the age column is missing\n",
        "# Replace missing values in the 'age' column with the mean age\n",
        "# Convert the 'gender' column to lowercase\n",
        "# Split the location column into separate columns for city and state\n",
        "# Save the cleaned data to a new CSV file with an appropriate name\n",
        "\n",
        "# AI generated code\n",
        "# 1. Import \"data_students.tsv\" into a dataframe\n",
        "df_students = pd.read_csv('/content/drive/MyDrive/5610/data_students.tsv', sep='\\t')\n",
        "df_students.head()\n",
        "\n",
        "# 2. Rename columns\n",
        "df_students.rename(columns={\n",
        "    \"student's age\": 'age',\n",
        "    'sex of student': 'gender',\n",
        "    'math grade': 'math_grade',\n",
        "    'science': 'science_grade',\n",
        "    'history': 'history_grade',\n",
        "    'grade in english': 'english_grade'\n",
        "}, inplace=True)\n",
        "\n",
        "df_students.columns\n",
        "# 3. Display the number of missing values in each column\n",
        "missing_values = df_students.isnull().sum()\n",
        "missing_values\n",
        "\n",
        "# 4. Create a new column identifying whether the age column is missing\n",
        "df_students['age_missing'] = df_students['age'].isnull()\n",
        "df_students.head()\n",
        "\n",
        "\n",
        "# 5. Replace missing values in the 'age' column with the mean age\n",
        "# Calculate mean age and replace missing values in 'age' column with the mean\n",
        "mean_age = df_students['age'].mean()\n",
        "df_students['age'].fillna(mean_age, inplace=True)\n",
        "\n",
        "# Verify if missing values in 'age' column are replaced\n",
        "df_students['age'].isnull().sum()\n",
        "\n",
        "# 6. Convert the 'gender' column to lowercase\n",
        "df_students['gender'] = df_students['gender'].str.lower()\n",
        "\n",
        "df_students['gender'].head()\n",
        "# 7. Split the location column into separate columns for city and state\n",
        "# Split the 'location' column into 'city' and 'state' columns\n",
        "df_students[['city', 'state']] = df_students['location'].str.split(', ', expand=True)\n",
        "# Drop the original 'location' column\n",
        "df_students.drop(columns=['location'], inplace=True)\n",
        "df_students[['city', 'state']].head()\n",
        "\n",
        "# 8. Save the cleaned data to a new CSV file with an appropriate name\n",
        "\n",
        "cleaned_file_path = \"/content/drive/MyDrive/5610/cleaned_data_students.csv\"\n",
        "df_students.to_csv(cleaned_file_path, index=False)\n",
        "\n",
        "cleaned_file_path\n",
        "\n",
        "\n",
        "\n",
        "\n",
        "\n",
        "\n"
      ]
    },
    {
      "cell_type": "markdown",
      "metadata": {
        "id": "5rFyq2Oyb2dR"
      },
      "source": [
        "5. Generative AI evaluation. Compare the code you produced using static sources to that produced by the generative AI. Write 2-3 paragraphs evaluating the strengths and weaknesses of both approaches. In doing so, you should answer the following questions:\n",
        "* Having now seen the code produced by Generative AI, how would you have written your code differently?\n",
        "* Where does Generative AI excel, and where did it fall short?\n",
        "* What was important in writing your prompt?"
      ]
    },
    {
      "cell_type": "markdown",
      "source": [
        "Chatgpt generates code much faster than people, so using AI tools significantly enhance coding efficiency. GPT-4 can automatically identify and rectify code errors, serving as a great debugging tool for us. However, a disadvantage of ChatGPT is that it cannot revise code when there is a distinction between the location of my local files and those uploaded to it, so I always have to fix errors in the code when GPT reads and saves files. The problem cannot be solved by changing prompts. In addition, a prompt cannot be perfect and its length is limited, so Generative AI sometimes misinterprets my prompts. I have to constantly check whether the generated code is what I want.\n",
        "\n",
        "There are several important things in writing prompt;\n",
        "\n",
        "1.   Make it specific and clear. List all requirements clearly rather than using vague instructions.\n",
        "2.   Make each prompt concise, or the AI will ignore part of instructions. I would better split instructions into several parts and submit them to Chat Gpt in batches.\n",
        "\n",
        "Having seen the power of Generative AI, I would use it to assist my coding. Firstly, I will let Chat GPT write me a code, and then modify and revise it to get the final version I want. If an error appears, I will send the error code to GPT to quickly understand the situation, and then make revisions. Generative AI is a powerful aid, but I cannot rely heavily on it because it's not entirely reliable.\n",
        "\n"
      ],
      "metadata": {
        "id": "WPL5MvcZ727R"
      }
    }
  ],
  "metadata": {
    "colab": {
      "provenance": [],
      "include_colab_link": true
    },
    "kernelspec": {
      "display_name": "Python 3 (ipykernel)",
      "language": "python",
      "name": "python3"
    },
    "language_info": {
      "codemirror_mode": {
        "name": "ipython",
        "version": 3
      },
      "file_extension": ".py",
      "mimetype": "text/x-python",
      "name": "python",
      "nbconvert_exporter": "python",
      "pygments_lexer": "ipython3",
      "version": "3.11.4"
    }
  },
  "nbformat": 4,
  "nbformat_minor": 0
}